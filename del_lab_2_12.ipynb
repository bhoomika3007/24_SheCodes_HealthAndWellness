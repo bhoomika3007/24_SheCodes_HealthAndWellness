{
  "nbformat": 4,
  "nbformat_minor": 0,
  "metadata": {
    "colab": {
      "provenance": [],
      "authorship_tag": "ABX9TyPpXCCfj6k8fr+Z+XCInxWB",
      "include_colab_link": true
    },
    "kernelspec": {
      "name": "python3",
      "display_name": "Python 3"
    },
    "language_info": {
      "name": "python"
    }
  },
  "cells": [
    {
      "cell_type": "markdown",
      "metadata": {
        "id": "view-in-github",
        "colab_type": "text"
      },
      "source": [
        "<a href=\"https://colab.research.google.com/github/bhoomika3007/24_SheCodes_HealthAndWellness/blob/main/del_lab_2_12.ipynb\" target=\"_parent\"><img src=\"https://colab.research.google.com/assets/colab-badge.svg\" alt=\"Open In Colab\"/></a>"
      ]
    },
    {
      "cell_type": "markdown",
      "source": [
        "multitasking with early stopping in a neural network scenario"
      ],
      "metadata": {
        "id": "5hcJlhZJN7ag"
      }
    },
    {
      "cell_type": "code",
      "source": [
        "import tensorflow as tf\n",
        "from tensorflow.keras import Sequential,Model\n",
        "from tensorflow.keras.layers import Dense,Flatten,Input\n",
        "from tensorflow.keras.callbacks import EarlyStopping\n",
        "from tensorflow.keras.utils import to_categorical"
      ],
      "metadata": {
        "id": "54MH3WIhN6tZ"
      },
      "execution_count": 45,
      "outputs": []
    },
    {
      "cell_type": "code",
      "execution_count": 46,
      "metadata": {
        "id": "iybHrG6RN3Ey"
      },
      "outputs": [],
      "source": [
        "(x_train,y_train),(x_test,y_test)=tf.keras.datasets.mnist.load_data()"
      ]
    },
    {
      "cell_type": "code",
      "source": [
        "x_train"
      ],
      "metadata": {
        "colab": {
          "base_uri": "https://localhost:8080/"
        },
        "id": "V15KcTZ0ObIT",
        "outputId": "451caa42-b2d7-44af-d8fe-281bfb8e684f"
      },
      "execution_count": 47,
      "outputs": [
        {
          "output_type": "execute_result",
          "data": {
            "text/plain": [
              "array([[[0, 0, 0, ..., 0, 0, 0],\n",
              "        [0, 0, 0, ..., 0, 0, 0],\n",
              "        [0, 0, 0, ..., 0, 0, 0],\n",
              "        ...,\n",
              "        [0, 0, 0, ..., 0, 0, 0],\n",
              "        [0, 0, 0, ..., 0, 0, 0],\n",
              "        [0, 0, 0, ..., 0, 0, 0]],\n",
              "\n",
              "       [[0, 0, 0, ..., 0, 0, 0],\n",
              "        [0, 0, 0, ..., 0, 0, 0],\n",
              "        [0, 0, 0, ..., 0, 0, 0],\n",
              "        ...,\n",
              "        [0, 0, 0, ..., 0, 0, 0],\n",
              "        [0, 0, 0, ..., 0, 0, 0],\n",
              "        [0, 0, 0, ..., 0, 0, 0]],\n",
              "\n",
              "       [[0, 0, 0, ..., 0, 0, 0],\n",
              "        [0, 0, 0, ..., 0, 0, 0],\n",
              "        [0, 0, 0, ..., 0, 0, 0],\n",
              "        ...,\n",
              "        [0, 0, 0, ..., 0, 0, 0],\n",
              "        [0, 0, 0, ..., 0, 0, 0],\n",
              "        [0, 0, 0, ..., 0, 0, 0]],\n",
              "\n",
              "       ...,\n",
              "\n",
              "       [[0, 0, 0, ..., 0, 0, 0],\n",
              "        [0, 0, 0, ..., 0, 0, 0],\n",
              "        [0, 0, 0, ..., 0, 0, 0],\n",
              "        ...,\n",
              "        [0, 0, 0, ..., 0, 0, 0],\n",
              "        [0, 0, 0, ..., 0, 0, 0],\n",
              "        [0, 0, 0, ..., 0, 0, 0]],\n",
              "\n",
              "       [[0, 0, 0, ..., 0, 0, 0],\n",
              "        [0, 0, 0, ..., 0, 0, 0],\n",
              "        [0, 0, 0, ..., 0, 0, 0],\n",
              "        ...,\n",
              "        [0, 0, 0, ..., 0, 0, 0],\n",
              "        [0, 0, 0, ..., 0, 0, 0],\n",
              "        [0, 0, 0, ..., 0, 0, 0]],\n",
              "\n",
              "       [[0, 0, 0, ..., 0, 0, 0],\n",
              "        [0, 0, 0, ..., 0, 0, 0],\n",
              "        [0, 0, 0, ..., 0, 0, 0],\n",
              "        ...,\n",
              "        [0, 0, 0, ..., 0, 0, 0],\n",
              "        [0, 0, 0, ..., 0, 0, 0],\n",
              "        [0, 0, 0, ..., 0, 0, 0]]], dtype=uint8)"
            ]
          },
          "metadata": {},
          "execution_count": 47
        }
      ]
    },
    {
      "cell_type": "code",
      "source": [
        "x_test"
      ],
      "metadata": {
        "colab": {
          "base_uri": "https://localhost:8080/"
        },
        "id": "NeF-snuvOpaA",
        "outputId": "94af9b5a-7875-456b-d34e-8af638352cb8"
      },
      "execution_count": 48,
      "outputs": [
        {
          "output_type": "execute_result",
          "data": {
            "text/plain": [
              "array([[[0, 0, 0, ..., 0, 0, 0],\n",
              "        [0, 0, 0, ..., 0, 0, 0],\n",
              "        [0, 0, 0, ..., 0, 0, 0],\n",
              "        ...,\n",
              "        [0, 0, 0, ..., 0, 0, 0],\n",
              "        [0, 0, 0, ..., 0, 0, 0],\n",
              "        [0, 0, 0, ..., 0, 0, 0]],\n",
              "\n",
              "       [[0, 0, 0, ..., 0, 0, 0],\n",
              "        [0, 0, 0, ..., 0, 0, 0],\n",
              "        [0, 0, 0, ..., 0, 0, 0],\n",
              "        ...,\n",
              "        [0, 0, 0, ..., 0, 0, 0],\n",
              "        [0, 0, 0, ..., 0, 0, 0],\n",
              "        [0, 0, 0, ..., 0, 0, 0]],\n",
              "\n",
              "       [[0, 0, 0, ..., 0, 0, 0],\n",
              "        [0, 0, 0, ..., 0, 0, 0],\n",
              "        [0, 0, 0, ..., 0, 0, 0],\n",
              "        ...,\n",
              "        [0, 0, 0, ..., 0, 0, 0],\n",
              "        [0, 0, 0, ..., 0, 0, 0],\n",
              "        [0, 0, 0, ..., 0, 0, 0]],\n",
              "\n",
              "       ...,\n",
              "\n",
              "       [[0, 0, 0, ..., 0, 0, 0],\n",
              "        [0, 0, 0, ..., 0, 0, 0],\n",
              "        [0, 0, 0, ..., 0, 0, 0],\n",
              "        ...,\n",
              "        [0, 0, 0, ..., 0, 0, 0],\n",
              "        [0, 0, 0, ..., 0, 0, 0],\n",
              "        [0, 0, 0, ..., 0, 0, 0]],\n",
              "\n",
              "       [[0, 0, 0, ..., 0, 0, 0],\n",
              "        [0, 0, 0, ..., 0, 0, 0],\n",
              "        [0, 0, 0, ..., 0, 0, 0],\n",
              "        ...,\n",
              "        [0, 0, 0, ..., 0, 0, 0],\n",
              "        [0, 0, 0, ..., 0, 0, 0],\n",
              "        [0, 0, 0, ..., 0, 0, 0]],\n",
              "\n",
              "       [[0, 0, 0, ..., 0, 0, 0],\n",
              "        [0, 0, 0, ..., 0, 0, 0],\n",
              "        [0, 0, 0, ..., 0, 0, 0],\n",
              "        ...,\n",
              "        [0, 0, 0, ..., 0, 0, 0],\n",
              "        [0, 0, 0, ..., 0, 0, 0],\n",
              "        [0, 0, 0, ..., 0, 0, 0]]], dtype=uint8)"
            ]
          },
          "metadata": {},
          "execution_count": 48
        }
      ]
    },
    {
      "cell_type": "code",
      "source": [
        "y_train"
      ],
      "metadata": {
        "colab": {
          "base_uri": "https://localhost:8080/"
        },
        "id": "XK0XQVpTOvfd",
        "outputId": "df05bb30-52ca-4f57-a205-66652b405d34"
      },
      "execution_count": 49,
      "outputs": [
        {
          "output_type": "execute_result",
          "data": {
            "text/plain": [
              "array([5, 0, 4, ..., 5, 6, 8], dtype=uint8)"
            ]
          },
          "metadata": {},
          "execution_count": 49
        }
      ]
    },
    {
      "cell_type": "code",
      "source": [
        "x_train = x_train.reshape(-1, 28 * 28) / 255.0\n",
        "x_test = x_test.reshape(-1, 28 * 28) / 255.0\n",
        "\n",
        "y_parity_train = (y_train % 2 == 0).astype(int)\n",
        "y_parity_test = (y_test % 2 == 0).astype(int)\n",
        "\n",
        "y_digit_train = y_train\n",
        "y_digit_test = y_test"
      ],
      "metadata": {
        "id": "QxJUHQxTOxvG"
      },
      "execution_count": 84,
      "outputs": []
    },
    {
      "cell_type": "code",
      "source": [
        "inputs = Input(shape=(784,))\n",
        "x = Dense(128, activation='relu')(inputs)\n",
        "x = Dense(64, activation='relu')(x)\n",
        "o1 = Dense(1, activation='sigmoid', name='out1')(x)  # Binary classification\n",
        "o2 = Dense(10, activation='softmax', name='out2')(x)  # Multi-class classification\n"
      ],
      "metadata": {
        "id": "6B-9gICSRShu"
      },
      "execution_count": 96,
      "outputs": []
    },
    {
      "cell_type": "code",
      "source": [
        "model=Model(inputs=inputs,outputs=[o1,o2])"
      ],
      "metadata": {
        "id": "u2HSysBuP1H5"
      },
      "execution_count": 86,
      "outputs": []
    },
    {
      "cell_type": "code",
      "source": [
        "model.compile(optimizer='adam',loss={'out1':'binary_crossentropy','out2':'sparse_categorical_crossentropy'},\n",
        "              metrics={'out1':'accuracy','out2':'accuracy'})"
      ],
      "metadata": {
        "id": "x8iIBho2QFjv"
      },
      "execution_count": 87,
      "outputs": []
    },
    {
      "cell_type": "code",
      "source": [
        "early_stop=EarlyStopping(monitor='val_loss',patience=3,restore_best_weights=True)"
      ],
      "metadata": {
        "id": "ZUQXhC_8QaaM"
      },
      "execution_count": 91,
      "outputs": []
    },
    {
      "cell_type": "code",
      "source": [
        "history=model.fit(\n",
        "    x_train,\n",
        "     {'out1':y_parity_train,'out2':y_digit_train},\n",
        "    validation_data=(x_test,\n",
        "     {'out1':y_parity_test,'out2':y_digit_test},\n",
        "                     ),\n",
        "    callbacks=[early_stop],\n",
        "    epochs=20,\n",
        "    batch_size=64)"
      ],
      "metadata": {
        "colab": {
          "base_uri": "https://localhost:8080/"
        },
        "id": "azoWAYtTQnvt",
        "outputId": "e2e3b2c0-9fe1-465a-d86e-226e4b327e7e"
      },
      "execution_count": 93,
      "outputs": [
        {
          "output_type": "stream",
          "name": "stdout",
          "text": [
            "Epoch 1/20\n",
            "\u001b[1m938/938\u001b[0m \u001b[32m━━━━━━━━━━━━━━━━━━━━\u001b[0m\u001b[37m\u001b[0m \u001b[1m8s\u001b[0m 9ms/step - loss: 2.0198 - out1_accuracy: 0.8343 - out1_loss: 0.3587 - out2_accuracy: 0.3010 - out2_loss: 1.6610 - val_loss: 1.9956 - val_out1_accuracy: 0.8386 - val_out1_loss: 0.3516 - val_out2_accuracy: 0.3092 - val_out2_loss: 1.6432\n",
            "Epoch 2/20\n",
            "\u001b[1m938/938\u001b[0m \u001b[32m━━━━━━━━━━━━━━━━━━━━\u001b[0m\u001b[37m\u001b[0m \u001b[1m8s\u001b[0m 7ms/step - loss: 2.0107 - out1_accuracy: 0.8367 - out1_loss: 0.3550 - out2_accuracy: 0.2971 - out2_loss: 1.6556 - val_loss: 2.0019 - val_out1_accuracy: 0.8364 - val_out1_loss: 0.3535 - val_out2_accuracy: 0.3168 - val_out2_loss: 1.6476\n",
            "Epoch 3/20\n",
            "\u001b[1m938/938\u001b[0m \u001b[32m━━━━━━━━━━━━━━━━━━━━\u001b[0m\u001b[37m\u001b[0m \u001b[1m10s\u001b[0m 6ms/step - loss: 2.0111 - out1_accuracy: 0.8355 - out1_loss: 0.3573 - out2_accuracy: 0.3032 - out2_loss: 1.6539 - val_loss: 1.9803 - val_out1_accuracy: 0.8422 - val_out1_loss: 0.3482 - val_out2_accuracy: 0.3127 - val_out2_loss: 1.6313\n",
            "Epoch 4/20\n",
            "\u001b[1m938/938\u001b[0m \u001b[32m━━━━━━━━━━━━━━━━━━━━\u001b[0m\u001b[37m\u001b[0m \u001b[1m11s\u001b[0m 6ms/step - loss: 1.9990 - out1_accuracy: 0.8386 - out1_loss: 0.3505 - out2_accuracy: 0.3065 - out2_loss: 1.6485 - val_loss: 1.9742 - val_out1_accuracy: 0.8408 - val_out1_loss: 0.3467 - val_out2_accuracy: 0.3206 - val_out2_loss: 1.6267\n",
            "Epoch 5/20\n",
            "\u001b[1m938/938\u001b[0m \u001b[32m━━━━━━━━━━━━━━━━━━━━\u001b[0m\u001b[37m\u001b[0m \u001b[1m7s\u001b[0m 7ms/step - loss: 1.9906 - out1_accuracy: 0.8409 - out1_loss: 0.3495 - out2_accuracy: 0.3095 - out2_loss: 1.6411 - val_loss: 2.0323 - val_out1_accuracy: 0.8270 - val_out1_loss: 0.3650 - val_out2_accuracy: 0.3115 - val_out2_loss: 1.6664\n",
            "Epoch 6/20\n",
            "\u001b[1m938/938\u001b[0m \u001b[32m━━━━━━━━━━━━━━━━━━━━\u001b[0m\u001b[37m\u001b[0m \u001b[1m5s\u001b[0m 6ms/step - loss: 1.9972 - out1_accuracy: 0.8377 - out1_loss: 0.3536 - out2_accuracy: 0.3070 - out2_loss: 1.6436 - val_loss: 2.0035 - val_out1_accuracy: 0.8351 - val_out1_loss: 0.3563 - val_out2_accuracy: 0.3140 - val_out2_loss: 1.6464\n",
            "Epoch 7/20\n",
            "\u001b[1m938/938\u001b[0m \u001b[32m━━━━━━━━━━━━━━━━━━━━\u001b[0m\u001b[37m\u001b[0m \u001b[1m12s\u001b[0m 7ms/step - loss: 1.9871 - out1_accuracy: 0.8401 - out1_loss: 0.3490 - out2_accuracy: 0.3132 - out2_loss: 1.6382 - val_loss: 1.9558 - val_out1_accuracy: 0.8465 - val_out1_loss: 0.3417 - val_out2_accuracy: 0.3264 - val_out2_loss: 1.6134\n",
            "Epoch 8/20\n",
            "\u001b[1m938/938\u001b[0m \u001b[32m━━━━━━━━━━━━━━━━━━━━\u001b[0m\u001b[37m\u001b[0m \u001b[1m11s\u001b[0m 8ms/step - loss: 1.9776 - out1_accuracy: 0.8423 - out1_loss: 0.3463 - out2_accuracy: 0.3205 - out2_loss: 1.6313 - val_loss: 1.9520 - val_out1_accuracy: 0.8467 - val_out1_loss: 0.3401 - val_out2_accuracy: 0.3297 - val_out2_loss: 1.6110\n",
            "Epoch 9/20\n",
            "\u001b[1m938/938\u001b[0m \u001b[32m━━━━━━━━━━━━━━━━━━━━\u001b[0m\u001b[37m\u001b[0m \u001b[1m6s\u001b[0m 7ms/step - loss: 1.9588 - out1_accuracy: 0.8466 - out1_loss: 0.3413 - out2_accuracy: 0.3268 - out2_loss: 1.6175 - val_loss: 1.9468 - val_out1_accuracy: 0.8468 - val_out1_loss: 0.3396 - val_out2_accuracy: 0.3294 - val_out2_loss: 1.6064\n",
            "Epoch 10/20\n",
            "\u001b[1m938/938\u001b[0m \u001b[32m━━━━━━━━━━━━━━━━━━━━\u001b[0m\u001b[37m\u001b[0m \u001b[1m8s\u001b[0m 8ms/step - loss: 1.9577 - out1_accuracy: 0.8457 - out1_loss: 0.3396 - out2_accuracy: 0.3214 - out2_loss: 1.6181 - val_loss: 1.9621 - val_out1_accuracy: 0.8447 - val_out1_loss: 0.3438 - val_out2_accuracy: 0.3213 - val_out2_loss: 1.6174\n",
            "Epoch 11/20\n",
            "\u001b[1m938/938\u001b[0m \u001b[32m━━━━━━━━━━━━━━━━━━━━\u001b[0m\u001b[37m\u001b[0m \u001b[1m6s\u001b[0m 7ms/step - loss: 1.9599 - out1_accuracy: 0.8452 - out1_loss: 0.3421 - out2_accuracy: 0.3225 - out2_loss: 1.6178 - val_loss: 1.9312 - val_out1_accuracy: 0.8495 - val_out1_loss: 0.3347 - val_out2_accuracy: 0.3378 - val_out2_loss: 1.5957\n",
            "Epoch 12/20\n",
            "\u001b[1m938/938\u001b[0m \u001b[32m━━━━━━━━━━━━━━━━━━━━\u001b[0m\u001b[37m\u001b[0m \u001b[1m11s\u001b[0m 8ms/step - loss: 1.9526 - out1_accuracy: 0.8461 - out1_loss: 0.3391 - out2_accuracy: 0.3269 - out2_loss: 1.6135 - val_loss: 1.9393 - val_out1_accuracy: 0.8505 - val_out1_loss: 0.3355 - val_out2_accuracy: 0.3375 - val_out2_loss: 1.6031\n",
            "Epoch 13/20\n",
            "\u001b[1m938/938\u001b[0m \u001b[32m━━━━━━━━━━━━━━━━━━━━\u001b[0m\u001b[37m\u001b[0m \u001b[1m11s\u001b[0m 8ms/step - loss: 1.9427 - out1_accuracy: 0.8502 - out1_loss: 0.3377 - out2_accuracy: 0.3291 - out2_loss: 1.6049 - val_loss: 1.9414 - val_out1_accuracy: 0.8508 - val_out1_loss: 0.3361 - val_out2_accuracy: 0.3257 - val_out2_loss: 1.6044\n",
            "Epoch 14/20\n",
            "\u001b[1m938/938\u001b[0m \u001b[32m━━━━━━━━━━━━━━━━━━━━\u001b[0m\u001b[37m\u001b[0m \u001b[1m9s\u001b[0m 6ms/step - loss: 1.9460 - out1_accuracy: 0.8478 - out1_loss: 0.3374 - out2_accuracy: 0.3311 - out2_loss: 1.6086 - val_loss: 1.9157 - val_out1_accuracy: 0.8525 - val_out1_loss: 0.3301 - val_out2_accuracy: 0.3398 - val_out2_loss: 1.5848\n",
            "Epoch 15/20\n",
            "\u001b[1m938/938\u001b[0m \u001b[32m━━━━━━━━━━━━━━━━━━━━\u001b[0m\u001b[37m\u001b[0m \u001b[1m8s\u001b[0m 8ms/step - loss: 1.9428 - out1_accuracy: 0.8493 - out1_loss: 0.3389 - out2_accuracy: 0.3321 - out2_loss: 1.6039 - val_loss: 1.9189 - val_out1_accuracy: 0.8511 - val_out1_loss: 0.3328 - val_out2_accuracy: 0.3464 - val_out2_loss: 1.5852\n",
            "Epoch 16/20\n",
            "\u001b[1m938/938\u001b[0m \u001b[32m━━━━━━━━━━━━━━━━━━━━\u001b[0m\u001b[37m\u001b[0m \u001b[1m9s\u001b[0m 7ms/step - loss: 1.9299 - out1_accuracy: 0.8496 - out1_loss: 0.3342 - out2_accuracy: 0.3379 - out2_loss: 1.5957 - val_loss: 1.9223 - val_out1_accuracy: 0.8511 - val_out1_loss: 0.3325 - val_out2_accuracy: 0.3358 - val_out2_loss: 1.5888\n",
            "Epoch 17/20\n",
            "\u001b[1m938/938\u001b[0m \u001b[32m━━━━━━━━━━━━━━━━━━━━\u001b[0m\u001b[37m\u001b[0m \u001b[1m6s\u001b[0m 7ms/step - loss: 1.9280 - out1_accuracy: 0.8512 - out1_loss: 0.3343 - out2_accuracy: 0.3367 - out2_loss: 1.5937 - val_loss: 1.9233 - val_out1_accuracy: 0.8538 - val_out1_loss: 0.3319 - val_out2_accuracy: 0.3562 - val_out2_loss: 1.5905\n"
          ]
        }
      ]
    },
    {
      "cell_type": "code",
      "source": [
        "stopped_epoch = early_stop.stopped_epoch\n",
        "print(f\"Early stopping occurred at epoch {stopped_epoch + 1}\")\n"
      ],
      "metadata": {
        "colab": {
          "base_uri": "https://localhost:8080/"
        },
        "id": "-i_CDYdFQ1aA",
        "outputId": "1e62c86b-f59e-48ad-b0c6-d625c9f467ba"
      },
      "execution_count": 94,
      "outputs": [
        {
          "output_type": "stream",
          "name": "stdout",
          "text": [
            "Early stopping occurred at epoch 17\n"
          ]
        }
      ]
    },
    {
      "cell_type": "code",
      "source": [
        "model.evaluate(x_test, {\n",
        "    'out2': y_digit_test,\n",
        "    'out1': y_parity_test\n",
        "})"
      ],
      "metadata": {
        "colab": {
          "base_uri": "https://localhost:8080/"
        },
        "id": "YhQ0a_X3hgRK",
        "outputId": "6bc0d6f9-eef1-4c73-c339-f5437b03a5b7"
      },
      "execution_count": 95,
      "outputs": [
        {
          "output_type": "stream",
          "name": "stdout",
          "text": [
            "\u001b[1m313/313\u001b[0m \u001b[32m━━━━━━━━━━━━━━━━━━━━\u001b[0m\u001b[37m\u001b[0m \u001b[1m1s\u001b[0m 2ms/step - loss: 1.9656 - out1_accuracy: 0.8385 - out1_loss: 0.3485 - out2_accuracy: 0.3375 - out2_loss: 1.6170\n"
          ]
        },
        {
          "output_type": "execute_result",
          "data": {
            "text/plain": [
              "[1.915739893913269,\n",
              " 0.330059677362442,\n",
              " 1.585404634475708,\n",
              " 0.8525000214576721,\n",
              " 0.33980000019073486]"
            ]
          },
          "metadata": {},
          "execution_count": 95
        }
      ]
    },
    {
      "cell_type": "code",
      "source": [],
      "metadata": {
        "id": "idw1Ea0WVOpe"
      },
      "execution_count": 100,
      "outputs": []
    },
    {
      "cell_type": "code",
      "source": [],
      "metadata": {
        "id": "AkRQ4RgibLZL"
      },
      "execution_count": 100,
      "outputs": []
    },
    {
      "cell_type": "code",
      "source": [],
      "metadata": {
        "id": "ntQaZ2yHliw_"
      },
      "execution_count": null,
      "outputs": []
    }
  ]
}